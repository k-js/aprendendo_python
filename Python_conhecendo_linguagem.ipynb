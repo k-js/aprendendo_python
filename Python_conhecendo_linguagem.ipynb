{
  "nbformat": 4,
  "nbformat_minor": 0,
  "metadata": {
    "colab": {
      "name": "Python_conhecendo_linguagem.ipynb",
      "provenance": [],
      "collapsed_sections": [],
      "authorship_tag": "ABX9TyNOsPfzUIXwcbdhfYo5hLko",
      "include_colab_link": true
    },
    "kernelspec": {
      "name": "python3",
      "display_name": "Python 3"
    }
  },
  "cells": [
    {
      "cell_type": "markdown",
      "metadata": {
        "id": "view-in-github",
        "colab_type": "text"
      },
      "source": [
        "<a href=\"https://colab.research.google.com/github/k-js/aprendendo_python/blob/master/Python_conhecendo_linguagem.ipynb\" target=\"_parent\"><img src=\"https://colab.research.google.com/assets/colab-badge.svg\" alt=\"Open In Colab\"/></a>"
      ]
    },
    {
      "cell_type": "code",
      "metadata": {
        "id": "Vmc4IEvAupfT",
        "outputId": "275eebbd-e0c8-4e88-e8dd-d38cddb64f94",
        "colab": {
          "base_uri": "https://localhost:8080/",
          "height": 35
        }
      },
      "source": [
        "def exibir_numero():\n",
        "  variavel_numero = 12\n",
        "  print(variavel_numero)\n",
        "exibir_numero()"
      ],
      "execution_count": null,
      "outputs": [
        {
          "output_type": "stream",
          "text": [
            "12\n"
          ],
          "name": "stdout"
        }
      ]
    },
    {
      "cell_type": "code",
      "metadata": {
        "id": "zuexpLXd6bst",
        "outputId": "fdc8c5c3-9835-4ae7-8785-c39edbbb301f",
        "colab": {
          "base_uri": "https://localhost:8080/",
          "height": 35
        }
      },
      "source": [
        "adicao = 19 + 1\n",
        "subtracao = 12 - 2 \n",
        "multiplicacao = 23 * 2\n",
        "divisao = 23 / 9\n",
        "exponenciacao = 9 ** 6\n",
        "divisao_inteira = 39 // 3\n",
        "resto_divisao_inteira = 45 % 23\n",
        "\n",
        "print()"
      ],
      "execution_count": null,
      "outputs": [
        {
          "output_type": "stream",
          "text": [
            "\n"
          ],
          "name": "stdout"
        }
      ]
    },
    {
      "cell_type": "code",
      "metadata": {
        "id": "xNGbJBq38zED",
        "outputId": "a0699cee-cc03-4e56-e71e-c8ba37f300b1",
        "colab": {
          "base_uri": "https://localhost:8080/",
          "height": 35
        }
      },
      "source": [
        "valor = 34\n",
        "\n",
        "print (f'O valor total e R${valor:.2f}')"
      ],
      "execution_count": null,
      "outputs": [
        {
          "output_type": "stream",
          "text": [
            "O valor total e R$34.00\n"
          ],
          "name": "stdout"
        }
      ]
    },
    {
      "cell_type": "code",
      "metadata": {
        "id": "220AUtAaDV2m",
        "outputId": "56cbcb0c-5222-41bd-e284-5b1957793ad0",
        "colab": {
          "base_uri": "https://localhost:8080/",
          "height": 35
        }
      },
      "source": [
        "nome = \"nil\"\n",
        "sobrenome = \"ju\"\n",
        "\n",
        "print(f\"{nome.capitalize()} {sobrenome.capitalize()}\")"
      ],
      "execution_count": null,
      "outputs": [
        {
          "output_type": "stream",
          "text": [
            "Nil Ju\n"
          ],
          "name": "stdout"
        }
      ]
    },
    {
      "cell_type": "code",
      "metadata": {
        "id": "bj8oW3jfJ4db",
        "outputId": "f333c7aa-e384-4d89-a687-a6761eec13f9",
        "colab": {
          "base_uri": "https://localhost:8080/",
          "height": 109
        }
      },
      "source": [
        "nome = input(\"Qual é o seu nome? \\n \")\n",
        "idade = input(\"Qual sua idade? \\n \")\n",
        "\n",
        "print(f\"Ola {nome}, me fale sobre você sei que tem {idade} anos.\")"
      ],
      "execution_count": null,
      "outputs": [
        {
          "output_type": "stream",
          "text": [
            "Qual é o seu nome? \n",
            " uy\n",
            "Qual sua idade? \n",
            " 67\n",
            "Ola uy, me fale sobre você sei que tem 67 anos.\n"
          ],
          "name": "stdout"
        }
      ]
    },
    {
      "cell_type": "code",
      "metadata": {
        "id": "Z_QP2Bh6MsMj",
        "outputId": "7d75a1be-442c-4579-be6f-abd312eff6ab",
        "colab": {
          "base_uri": "https://localhost:8080/",
          "height": 35
        }
      },
      "source": [
        "from datetime import datetime as dt\n",
        "\n",
        "horario_agora = dt.now()\n",
        "\n",
        "print(horario_agora)"
      ],
      "execution_count": null,
      "outputs": [
        {
          "output_type": "stream",
          "text": [
            "2020-09-28 19:52:12.191969\n"
          ],
          "name": "stdout"
        }
      ]
    },
    {
      "cell_type": "code",
      "metadata": {
        "id": "HBVCp1IpM7yk",
        "outputId": "5543d701-3b18-4d48-ff3a-c01e910757a0",
        "colab": {
          "base_uri": "https://localhost:8080/",
          "height": 35
        }
      },
      "source": [
        "agora = dt.now()\n",
        "ano_atual = agora.year\n",
        "mes_atual = agora.month\n",
        "dia_atual = agora.day\n",
        "\n",
        "print(f\"{dia_atual:02}/{mes_atual:02}/{ano_atual:04}\")"
      ],
      "execution_count": null,
      "outputs": [
        {
          "output_type": "stream",
          "text": [
            "28/09/2020\n"
          ],
          "name": "stdout"
        }
      ]
    },
    {
      "cell_type": "code",
      "metadata": {
        "id": "7sKnUVTrQ8l9",
        "outputId": "2da52bdf-48c8-412f-faa8-954ff6a91a08",
        "colab": {
          "base_uri": "https://localhost:8080/",
          "height": 35
        }
      },
      "source": [
        "administrador = True #boolen - booleano\n",
        "\n",
        "print(administrador)"
      ],
      "execution_count": null,
      "outputs": [
        {
          "output_type": "stream",
          "text": [
            "True\n"
          ],
          "name": "stdout"
        }
      ]
    },
    {
      "cell_type": "code",
      "metadata": {
        "id": "0_wUrLgO5jOq",
        "outputId": "988b0bf6-a9c6-4d28-dea4-3f07eb314390",
        "colab": {
          "base_uri": "https://localhost:8080/",
          "height": 109
        }
      },
      "source": [
        "print( 1 == 1)\n",
        "print( 1 <= 6)\n",
        "print(3 == \"5\")\n",
        "print(5 != 9)\n",
        "print(\"uy\" == \"uy\")"
      ],
      "execution_count": null,
      "outputs": [
        {
          "output_type": "stream",
          "text": [
            "True\n",
            "True\n",
            "False\n",
            "True\n",
            "True\n"
          ],
          "name": "stdout"
        }
      ]
    },
    {
      "cell_type": "code",
      "metadata": {
        "id": "7FKpPuCj5jUQ",
        "outputId": "16252dd3-7f90-4a46-9c17-8df3187fd2cd",
        "colab": {
          "base_uri": "https://localhost:8080/",
          "height": 146
        }
      },
      "source": [
        "#operadores de comparacao - and, or e not\n",
        "\n",
        "print(True and True) \n",
        "print(True and False) \n",
        "print(False and False) \n",
        "print(not (False and True)) \n",
        "print(not False and False)\n",
        "print(True or False)\n",
        "print(True or False or False)"
      ],
      "execution_count": null,
      "outputs": [
        {
          "output_type": "stream",
          "text": [
            "True\n",
            "False\n",
            "False\n",
            "True\n",
            "False\n",
            "True\n",
            "True\n"
          ],
          "name": "stdout"
        }
      ]
    },
    {
      "cell_type": "code",
      "metadata": {
        "id": "_sb7reik5j0N"
      },
      "source": [
        "'''\n",
        "Ordem da logica bolleana \n",
        "ANTES DE TUDO, RESOLVEMOS OS OPERADORES DE COMPRACAO \n",
        "\n",
        "Antes de tudo, resolvemos os operadores de comparação: ==, !=, <, >, <= e >=.\n",
        "\n",
        "    Primeiro resolvemos o not\n",
        "    Depois, resolvemos o and\n",
        "    Por último, resolvemos o or\n",
        "\n",
        "\n",
        "\n",
        "'''\n"
      ],
      "execution_count": null,
      "outputs": []
    },
    {
      "cell_type": "code",
      "metadata": {
        "id": "4WUF89Xe5kE2",
        "outputId": "fa4d7566-eb3d-4359-c88e-a3610f9b455e",
        "colab": {
          "base_uri": "https://localhost:8080/",
          "height": 35
        }
      },
      "source": [
        "#if, elif e else\n",
        "\n",
        "admin = False\n",
        "\n",
        "if admin == True:\n",
        "  print(\"acesso liberado\")\n",
        "else:\n",
        "  print(\"acesso negado\")"
      ],
      "execution_count": null,
      "outputs": [
        {
          "output_type": "stream",
          "text": [
            "acesso negado\n"
          ],
          "name": "stdout"
        }
      ]
    },
    {
      "cell_type": "code",
      "metadata": {
        "id": "yQUmZXSID4r1",
        "outputId": "03b88404-cc31-4a09-d8f5-cec0cd215ee7",
        "colab": {
          "base_uri": "https://localhost:8080/",
          "height": 35
        }
      },
      "source": [
        "numero = 10\n",
        "\n",
        "if numero > 5 :\n",
        "  print(\"O numero X é maio que 5\")\n",
        "elif numero > 0 :\n",
        "  print(\"o numero X é maior do que 0 tbm é menor ou igual a 5\")\n",
        "else:\n",
        "  print(\"menor igual ou igual a 0\")"
      ],
      "execution_count": null,
      "outputs": [
        {
          "output_type": "stream",
          "text": [
            "O numero X é maio que 5\n"
          ],
          "name": "stdout"
        }
      ]
    },
    {
      "cell_type": "code",
      "metadata": {
        "id": "LJKy9pHV5kJp",
        "outputId": "e2254bbf-e603-443d-b6b2-0334c457f75e",
        "colab": {
          "base_uri": "https://localhost:8080/",
          "height": 72
        }
      },
      "source": [
        "nome = input(\"Qual é o seu nome?\\n\").lower().strip()\n",
        "\n",
        "if \"medieval\" in nome :\n",
        "  print(\"ligado\")\n",
        "elif \"futurista\" in nome:\n",
        "  print(\"sabre de luz\")\n",
        "else :\n",
        "  print(\"tente novamente\")\n"
      ],
      "execution_count": null,
      "outputs": [
        {
          "output_type": "stream",
          "text": [
            "Qual é o seu nome?\n",
            "hhsh medieval\n",
            "ligado\n"
          ],
          "name": "stdout"
        }
      ]
    },
    {
      "cell_type": "code",
      "metadata": {
        "id": "2PR5CO8jPPpW"
      },
      "source": [
        "import numpy as np\n",
        "def levenshtein_ratio_and_distance(s, t, ratio_calc = False):\n",
        "    \"\"\" levenshtein_ratio_and_distance:\n",
        "        Calculates levenshtein distance between two strings.\n",
        "        If ratio_calc = True, the function computes the\n",
        "        levenshtein distance ratio of similarity between two strings\n",
        "        For all i and j, distance[i,j] will contain the Levenshtein\n",
        "        distance between the first i characters of s and the\n",
        "        first j characters of t\n",
        "    \"\"\"\n",
        "    # Initialize matrix of zeros\n",
        "    rows = len(s)+1\n",
        "    cols = len(t)+1\n",
        "    distance = np.zeros((rows,cols),dtype = int)\n",
        "\n",
        "    # Populate matrix of zeros with the indeces of each character of both strings\n",
        "    for i in range(1, rows):\n",
        "        for k in range(1,cols):\n",
        "            distance[i][0] = i\n",
        "            distance[0][k] = k\n",
        "\n",
        "    # Iterate over the matrix to compute the cost of deletions,insertions and/or substitutions    \n",
        "    for col in range(1, cols):\n",
        "        for row in range(1, rows):\n",
        "            if s[row-1] == t[col-1]:\n",
        "                cost = 0 # If the characters are the same in the two strings in a given position [i,j] then the cost is 0\n",
        "            else:\n",
        "                # In order to align the results with those of the Python Levenshtein package, if we choose to calculate the ratio\n",
        "                # the cost of a substitution is 2. If we calculate just distance, then the cost of a substitution is 1.\n",
        "                if ratio_calc == True:\n",
        "                    cost = 2\n",
        "                else:\n",
        "                    cost = 1\n",
        "            distance[row][col] = min(distance[row-1][col] + 1,      # Cost of deletions\n",
        "                                 distance[row][col-1] + 1,          # Cost of insertions\n",
        "                                 distance[row-1][col-1] + cost)     # Cost of substitutions\n",
        "    if ratio_calc == True:\n",
        "        # Computation of the Levenshtein Distance Ratio\n",
        "        Ratio = ((len(s)+len(t)) - distance[row][col]) / (len(s)+len(t))\n",
        "        return Ratio\n",
        "    else:\n",
        "        # print(distance) # Uncomment if you want to see the matrix showing how the algorithm computes the cost of deletions,\n",
        "        # insertions and/or substitutions\n",
        "        # This is the minimum number of edits needed to convert string a to string b\n",
        "        return \"The strings are {} edits away\".format(distance[row][col])"
      ],
      "execution_count": null,
      "outputs": []
    },
    {
      "cell_type": "code",
      "metadata": {
        "id": "lYqxEsIi5jwv",
        "outputId": "1f862f00-dc20-410b-b616-4640bba32d4d",
        "colab": {
          "base_uri": "https://localhost:8080/",
          "height": 54
        }
      },
      "source": [
        "Str1 = \"futuro\"\n",
        "Str2 = \"futurama\"\n",
        "Distance = levenshtein_ratio_and_distance(Str1,Str2)\n",
        "print(Distance)\n"
      ],
      "execution_count": null,
      "outputs": [
        {
          "output_type": "stream",
          "text": [
            "The strings are 3 edits away\n",
            "0.7142857142857143\n"
          ],
          "name": "stdout"
        }
      ]
    },
    {
      "cell_type": "code",
      "metadata": {
        "id": "XRJtSxLc5jvr",
        "outputId": "cb29e25f-0654-4fb4-8a36-4dce941737ab",
        "colab": {
          "base_uri": "https://localhost:8080/",
          "height": 72
        }
      },
      "source": [
        "print(\"a\" > \"b\")\n",
        "print(\"b\" > \"a\")\n",
        "print(\"a\" == \"b\")"
      ],
      "execution_count": null,
      "outputs": [
        {
          "output_type": "stream",
          "text": [
            "False\n",
            "True\n",
            "False\n"
          ],
          "name": "stdout"
        }
      ]
    },
    {
      "cell_type": "code",
      "metadata": {
        "id": "HkvYgTQ95jut",
        "outputId": "b2cb02c8-0a7e-4ed7-fc95-516564d56c6d",
        "colab": {
          "base_uri": "https://localhost:8080/",
          "height": 35
        }
      },
      "source": [
        "#FUNÇOES\n",
        "\n",
        "def exibir_num():\n",
        "  num = 1\n",
        "  print(num)\n",
        "\n",
        "exibir_num()\n"
      ],
      "execution_count": null,
      "outputs": [
        {
          "output_type": "stream",
          "text": [
            "1\n"
          ],
          "name": "stdout"
        }
      ]
    },
    {
      "cell_type": "code",
      "metadata": {
        "id": "DiTERjU0Ug5v",
        "outputId": "bc6ae3bf-e4c8-43a0-f641-e446f2bf64d1",
        "colab": {
          "base_uri": "https://localhost:8080/",
          "height": 90
        }
      },
      "source": [
        "def solicitar_escolha():\n",
        "  escolha_usuario = input(\"Por acaso você é *futurista* ou tá mais pra *medieval*?\\n\").lower().strip()\n",
        "\n",
        "  if \"medieval\" in escolha_usuario:\n",
        "    print(\"Você recebeu uma espada!\")\n",
        "  elif \"futur\" in escolha_usuario:\n",
        "    print(\"Você recebeu um sabre de luz!\")\n",
        "  else:\n",
        "    print(\"Tente novamente...\")\n",
        "    solicitar_escolha()\n",
        "\n",
        "print(\"Iniciando o jogo...\")\n",
        "solicitar_escolha()\n"
      ],
      "execution_count": 3,
      "outputs": [
        {
          "output_type": "stream",
          "text": [
            "Iniciando o jogo...\n",
            "Por acaso você é *futurista* ou tá mais pra *medieval*?\n",
            "medieval\n",
            "Você recebeu uma espada!\n"
          ],
          "name": "stdout"
        }
      ]
    },
    {
      "cell_type": "code",
      "metadata": {
        "id": "T_yvudJM5jlb",
        "outputId": "91e310af-64f7-43cf-f621-2ae0719e8a7e",
        "colab": {
          "base_uri": "https://localhost:8080/",
          "height": 54
        }
      },
      "source": [
        "#RETORNO DAS FUNÇOES\n",
        "def somar(a, b):\n",
        "  resultado_soma = a + b\n",
        "  return resultado_soma\n",
        "\n",
        "resultado1 = somar(15, 10)\n",
        "print(resultado1)\n",
        "\n",
        "resultado2 = somar(150, 20)\n",
        "resultado3 = somar(50, 30)\n",
        "resultado4 = somar(resultado2, resultado3)\n",
        "print(resultado4)\n"
      ],
      "execution_count": 1,
      "outputs": [
        {
          "output_type": "stream",
          "text": [
            "25\n",
            "250\n"
          ],
          "name": "stdout"
        }
      ]
    },
    {
      "cell_type": "code",
      "metadata": {
        "id": "NJiUsJ9k5jhQ"
      },
      "source": [
        ""
      ],
      "execution_count": null,
      "outputs": []
    },
    {
      "cell_type": "code",
      "metadata": {
        "id": "0z1MKAby5jd2"
      },
      "source": [
        ""
      ],
      "execution_count": null,
      "outputs": []
    },
    {
      "cell_type": "code",
      "metadata": {
        "id": "vdzbKkMf5ja_"
      },
      "source": [
        ""
      ],
      "execution_count": null,
      "outputs": []
    },
    {
      "cell_type": "code",
      "metadata": {
        "id": "rzB0At0m5jMS"
      },
      "source": [
        ""
      ],
      "execution_count": null,
      "outputs": []
    },
    {
      "cell_type": "code",
      "metadata": {
        "id": "9V5PjIsj5jKj"
      },
      "source": [
        ""
      ],
      "execution_count": null,
      "outputs": []
    },
    {
      "cell_type": "code",
      "metadata": {
        "id": "nwZi_btq5jIO"
      },
      "source": [
        ""
      ],
      "execution_count": null,
      "outputs": []
    },
    {
      "cell_type": "code",
      "metadata": {
        "id": "FmfepZTr5jFy"
      },
      "source": [
        ""
      ],
      "execution_count": null,
      "outputs": []
    }
  ]
}